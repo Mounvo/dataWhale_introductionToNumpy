{
 "cells": [
  {
   "cell_type": "code",
   "execution_count": 2,
   "metadata": {},
   "outputs": [
    {
     "name": "stdout",
     "output_type": "stream",
     "text": [
      "0.3897\n"
     ]
    },
    {
     "name": "stderr",
     "output_type": "stream",
     "text": [
      "/Users/anaconda3/lib/python3.7/site-packages/matplotlib/font_manager.py:1331: UserWarning: findfont: Font family ['sans-serif'] not found. Falling back to DejaVu Sans\n",
      "  (prop.get_family(), self.defaultFamily[fontext]))\n"
     ]
    },
    {
     "data": {
      "image/png": "[encoded data removed]",
      "text/plain": [
       "<Figure size 432x288 with 1 Axes>"
      ]
     },
     "metadata": {
      "needs_background": "light"
     },
     "output_type": "display_data"
    },
    {
     "name": "stdout",
     "output_type": "stream",
     "text": [
      "[0.387 0.387 0.172 0.045 0.007 0.001 0.    0.    0.    0.   ]\n"
     ]
    }
   ],
   "source": [
    "import numpy as np\n",
    "import matplotlib.pyplot as plt\n",
    "import matplotlib as mpl\n",
    "from scipy import stats\n",
    "\n",
    "# 为matplotlib添加中文库\n",
    "plt.rcParams['font.sans-serif']=['SimHei']\n",
    "plt.rcParams['axes.unicode_minus'] = False\n",
    "\n",
    "\n",
    "np.random.seed(20200605)\n",
    "n = 9\n",
    "p = 0.1\n",
    "size = 50000\n",
    "x = np.random.binomial(n, p, size)\n",
    "\n",
    "print(np.sum( x == 0) / size)\n",
    "\n",
    "plt.hist(x)\n",
    "plt.xlabel('随机变量：成功次数')\n",
    "plt.ylabel('样本中出现的次数')\n",
    "plt.show()\n",
    "s = stats.binom.pmf(range(10), n, p)\n",
    "print(np.around(s, 3))"
   ]
  },
  {
   "cell_type": "code",
   "execution_count": 3,
   "metadata": {},
   "outputs": [
    {
     "name": "stdout",
     "output_type": "stream",
     "text": [
      "0.25154\n",
      "0.49874\n",
      "0.24972\n"
     ]
    },
    {
     "name": "stderr",
     "output_type": "stream",
     "text": [
      "/Users/anaconda3/lib/python3.7/site-packages/matplotlib/font_manager.py:1331: UserWarning: findfont: Font family ['sans-serif'] not found. Falling back to DejaVu Sans\n",
      "  (prop.get_family(), self.defaultFamily[fontext]))\n"
     ]
    },
    {
     "data": {
      "image/png": "[encoded data removed]",
      "text/plain": [
       "<Figure size 432x288 with 1 Axes>"
      ]
     },
     "metadata": {
      "needs_background": "light"
     },
     "output_type": "display_data"
    },
    {
     "name": "stdout",
     "output_type": "stream",
     "text": [
      "[0.25 0.5  0.25]\n"
     ]
    }
   ],
   "source": [
    "np.random.seed(20200605)\n",
    "n = 2# 做某件事情的次数,这里是投两次硬币\n",
    "p = 0.5#做某件事情成功的概率，在这里即投硬币为正面的概率\n",
    "size = 50000\n",
    "x = np.random.binomial(n, p, size)\n",
    "'''或者使用binom.rvs\n",
    "#使用binom.rvs(n, p, size=1)函数模拟一个二项随机变量,可视化地表现概率\n",
    "y = stats.binom.rvs(n, p, size=size)#返回一个numpy.ndarray\n",
    "'''\n",
    "print(np.sum(x == 0) / size)  # 0.25154\n",
    "print(np.sum(x == 1) / size)  # 0.49874\n",
    "print(np.sum(x == 2) / size)  # 0.24972\n",
    "\n",
    "plt.hist(x, density=True)\n",
    "plt.xlabel('随机变量：硬币为正面次数')\n",
    "plt.ylabel('50000个样本中出现的次数')\n",
    "plt.show()\n",
    "#它返回一个列表，列表中每个元素表示随机变量中对应值的概率\n",
    "s = stats.binom.pmf(range(n + 1), n, p)\n",
    "print(np.around(s, 3))\n",
    "# [0.25 0.5  0.25]"
   ]
  },
  {
   "cell_type": "code",
   "execution_count": 4,
   "metadata": {},
   "outputs": [
    {
     "name": "stdout",
     "output_type": "stream",
     "text": [
      "/Users/anaconda3/lib/python3.7/site-packages/matplotlib/mpl-data/matplotlibrc\n"
     ]
    }
   ],
   "source": [
    "import matplotlib    \n",
    "print(matplotlib.matplotlib_fname())"
   ]
  },
  {
   "cell_type": "code",
   "execution_count": null,
   "metadata": {},
   "outputs": [],
   "source": []
  }
 ],
 "metadata": {
  "kernelspec": {
   "display_name": "Python 3",
   "language": "python",
   "name": "python3"
  },
  "language_info": {
   "codemirror_mode": {
    "name": "ipython",
    "version": 3
   },
   "file_extension": ".py",
   "mimetype": "text/x-python",
   "name": "python",
   "nbconvert_exporter": "python",
   "pygments_lexer": "ipython3",
   "version": "3.7.2"
  }
 },
 "nbformat": 4,
 "nbformat_minor": 2
}
