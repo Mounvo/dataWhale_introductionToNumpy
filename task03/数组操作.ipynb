{
 "cells": [
  {
   "cell_type": "code",
   "execution_count": 3,
   "metadata": {},
   "outputs": [
    {
     "name": "stdout",
     "output_type": "stream",
     "text": [
      "(12,)\n",
      "[[ 1  2  3]\n",
      " [ 4  5  6]\n",
      " [ 7  8  9]\n",
      " [10 11 12]]\n"
     ]
    }
   ],
   "source": [
    "import numpy as np\n",
    "\n",
    "x = np.array([1, 2, 3, 4, 5, 6, 7, 8, 9, 10, 11, 12])\n",
    "print(x.shape)\n",
    "x.shape = [4,3]\n",
    "print(x)"
   ]
  },
  {
   "cell_type": "code",
   "execution_count": 7,
   "metadata": {},
   "outputs": [
    {
     "name": "stdout",
     "output_type": "stream",
     "text": [
      "order=C:\n",
      "[[ 1  2  3  4]\n",
      " [ 5  6  7  8]\n",
      " [ 9 10 11 12]]\n",
      "order=F:\n",
      "[[ 1 10  8  6]\n",
      " [ 4  2 11  9]\n",
      " [ 7  5  3 12]]\n",
      "order=A:\n",
      "[[ 1  2  3  4]\n",
      " [ 5  6  7  8]\n",
      " [ 9 10 11 12]]\n",
      "default:\n",
      "[[ 1  2  3  4]\n",
      " [ 5  6  7  8]\n",
      " [ 9 10 11 12]]\n"
     ]
    }
   ],
   "source": [
    "x1 = x.reshape((3,4),order='C')\n",
    "x2 = x.reshape((3,4),order='F')\n",
    "x3 = x.reshape((3,4),order='A')\n",
    "x4 = x.reshape((3,4))\n",
    "print(\"order=C:\")\n",
    "print(x1)\n",
    "print(\"order=F:\")\n",
    "print(x2)\n",
    "print(\"order=A:\")\n",
    "print(x3)\n",
    "print(\"default:\")\n",
    "print(x4)"
   ]
  },
  {
   "cell_type": "code",
   "execution_count": 8,
   "metadata": {},
   "outputs": [
    {
     "name": "stdout",
     "output_type": "stream",
     "text": [
      "int64\n",
      "[[ 0  1  2  3]\n",
      " [ 4  5  6  7]\n",
      " [ 8  9 10 11]]\n",
      "[[ 0  1  2  3]\n",
      " [ 4  5  6  7]\n",
      " [ 8  9 10 11]]\n",
      "[[ 0  1  2]\n",
      " [ 3  4  5]\n",
      " [ 6  7  8]\n",
      " [ 9 10 11]]\n",
      "[ 0 10  2  3  4  5  6  7  8  9 10 11]\n"
     ]
    }
   ],
   "source": [
    "x = np.arange(12)\n",
    "y = np.reshape(x, [3, 4])\n",
    "print(y.dtype)  # int32\n",
    "print(y)\n",
    "# [[ 0  1  2  3]\n",
    "#  [ 4  5  6  7]\n",
    "#  [ 8  9 10 11]]\n",
    "\n",
    "y = np.reshape(x, [3, -1])\n",
    "print(y)\n",
    "# [[ 0  1  2  3]\n",
    "#  [ 4  5  6  7]\n",
    "#  [ 8  9 10 11]]\n",
    "\n",
    "y = np.reshape(x,[-1,3])\n",
    "print(y)\n",
    "# [[ 0  1  2]\n",
    "#  [ 3  4  5]\n",
    "#  [ 6  7  8]\n",
    "#  [ 9 10 11]]\n",
    "\n",
    "y[0, 1] = 10\n",
    "print(x)"
   ]
  },
  {
   "cell_type": "code",
   "execution_count": 9,
   "metadata": {},
   "outputs": [
    {
     "name": "stdout",
     "output_type": "stream",
     "text": [
      "[ 0 10  2  3  4  5  6  7  8  9 10 11]\n"
     ]
    }
   ],
   "source": [
    "y[0, 1] = 10\n",
    "print(x)"
   ]
  },
  {
   "cell_type": "code",
   "execution_count": 14,
   "metadata": {},
   "outputs": [
    {
     "name": "stdout",
     "output_type": "stream",
     "text": [
      "[[7 4 3]\n",
      " [9 5 5]\n",
      " [0 4 3]\n",
      " [9 5 4]]\n",
      "[7 4 3 9 5 5 0 4 3 9 5 4]\n"
     ]
    }
   ],
   "source": [
    "x = np.random.randint(0,10,size=[4,3])\n",
    "print(x)\n",
    "y = np.reshape(x,-1)\n",
    "print(y)"
   ]
  },
  {
   "cell_type": "code",
   "execution_count": 21,
   "metadata": {},
   "outputs": [
    {
     "name": "stdout",
     "output_type": "stream",
     "text": [
      "<numpy.flatiter object at 0x7fd98d8b8e00>\n"
     ]
    }
   ],
   "source": [
    "x = np.array([[11, 12, 13, 14, 15],\n",
    "              [16, 17, 18, 19, 20],\n",
    "              [21, 22, 23, 24, 25],\n",
    "              [26, 27, 28, 29, 30],\n",
    "              [31, 32, 33, 34, 35]])\n",
    "y = x.flat\n",
    "print(y)"
   ]
  },
  {
   "cell_type": "code",
   "execution_count": 16,
   "metadata": {},
   "outputs": [
    {
     "name": "stdout",
     "output_type": "stream",
     "text": [
      "11 12 13 14 15 16 17 18 19 20 21 22 23 24 25 26 27 28 29 30 31 32 33 34 35 "
     ]
    }
   ],
   "source": [
    "for i in y:\n",
    "  print(i, end=' ')"
   ]
  },
  {
   "cell_type": "code",
   "execution_count": 18,
   "metadata": {},
   "outputs": [
    {
     "name": "stdout",
     "output_type": "stream",
     "text": [
      "[[11 12 13  0 15]\n",
      " [16 17 18 19 20]\n",
      " [21 22 23 24 25]\n",
      " [26 27 28 29 30]\n",
      " [31 32 33 34 35]]\n"
     ]
    }
   ],
   "source": [
    "y[3] = 0\n",
    "print(x)\n",
    "# [[11 12 13  0 15]\n",
    "#  [16 17 18 19 20]\n",
    "#  [21 22 23 24 25]\n",
    "#  [26 27 28 29 30]\n",
    "#  [31 32 33 34 35]]"
   ]
  },
  {
   "cell_type": "code",
   "execution_count": 22,
   "metadata": {},
   "outputs": [
    {
     "name": "stdout",
     "output_type": "stream",
     "text": [
      "[11 12 13 14 15 16 17 18 19 20 21 22 23 24 25 26 27 28 29 30 31 32 33 34\n",
      " 35]\n"
     ]
    }
   ],
   "source": [
    "y = x.flatten()\n",
    "print(y)"
   ]
  },
  {
   "cell_type": "code",
   "execution_count": 23,
   "metadata": {},
   "outputs": [
    {
     "name": "stdout",
     "output_type": "stream",
     "text": [
      "[11 12 13 14 15 16 17 18 19 20 21 22 23 24 25 26 27 28 29 30 31 32 33 34\n",
      " 35]\n"
     ]
    }
   ],
   "source": [
    "y = np.ravel(x)\n",
    "print(y)"
   ]
  },
  {
   "cell_type": "code",
   "execution_count": 24,
   "metadata": {
    "scrolled": true
   },
   "outputs": [
    {
     "name": "stdout",
     "output_type": "stream",
     "text": [
      "[[11 12 13  0 15]\n",
      " [16 17 18 19 20]\n",
      " [21 22 23 24 25]\n",
      " [26 27 28 29 30]\n",
      " [31 32 33 34 35]]\n"
     ]
    }
   ],
   "source": [
    "y[3] = 0\n",
    "print(x)"
   ]
  },
  {
   "cell_type": "code",
   "execution_count": 25,
   "metadata": {},
   "outputs": [
    {
     "name": "stdout",
     "output_type": "stream",
     "text": [
      "[[9.29 6.93 8.55 6.89 4.24]\n",
      " [6.05 3.07 1.49 7.72 8.15]\n",
      " [9.74 9.72 8.8  5.95 5.46]\n",
      " [8.74 6.58 8.9  1.96 0.11]\n",
      " [7.78 9.02 9.62 5.23 6.92]]\n",
      "[[9.29 6.05 9.74 8.74 7.78]\n",
      " [6.93 3.07 9.72 6.58 9.02]\n",
      " [8.55 1.49 8.8  8.9  9.62]\n",
      " [6.89 7.72 5.95 1.96 5.23]\n",
      " [4.24 8.15 5.46 0.11 6.92]]\n"
     ]
    }
   ],
   "source": [
    "x = np.random.rand(5, 5) * 10\n",
    "x = np.around(x, 2)\n",
    "print(x)\n",
    "# [[6.74 8.46 6.74 5.45 1.25]\n",
    "#  [3.54 3.49 8.62 1.94 9.92]\n",
    "#  [5.03 7.22 1.6  8.7  0.43]\n",
    "#  [7.5  7.31 5.69 9.67 7.65]\n",
    "#  [1.8  9.52 2.78 5.87 4.14]]\n",
    "y = np.transpose(x)\n",
    "print(y)\n",
    "# [[6.74 3.54 5.03 7.5  1.8 ]\n",
    "#  [8.46 3.49 7.22 7.31 9.52]\n",
    "#  [6.74 8.62 1.6  5.69 2.78]\n",
    "#  [5.45 1.94 8.7  9.67 5.87]\n",
    "#  [1.25 9.92 0.43 7.65 4.14]]"
   ]
  },
  {
   "cell_type": "code",
   "execution_count": 28,
   "metadata": {},
   "outputs": [
    {
     "name": "stdout",
     "output_type": "stream",
     "text": [
      "原数组：\n",
      "[[[0 1]\n",
      "  [2 3]]\n",
      "\n",
      " [[4 5]\n",
      "  [6 7]]]\n",
      "获取数组中一个值：\n",
      "(array([1]), array([1]), array([0]))\n",
      "6\n",
      "\n",
      "\n",
      "将轴2滚动到轴0：\n",
      "[[[0 2]\n",
      "  [4 6]]\n",
      "\n",
      " [[1 3]\n",
      "  [5 7]]]\n",
      "查看元素6的位置：\n",
      "(array([0]), array([1]), array([1]))\n"
     ]
    }
   ],
   "source": [
    "a = np.arange(8).reshape(2,2,2)\n",
    " \n",
    "print ('原数组：')\n",
    "print (a)\n",
    "print ('获取数组中一个值：')\n",
    "print(np.where(a==6))   \n",
    "print(a[1,1,0])  # 为 6\n",
    "print ('\\n')\n",
    "\n",
    "print('将轴2滚动到轴0：')\n",
    "b = np.rollaxis(a,2,0)\n",
    "print(b)\n",
    "print('查看元素6的位置：')\n",
    "print(np.where(b==6))"
   ]
  },
  {
   "cell_type": "code",
   "execution_count": 29,
   "metadata": {},
   "outputs": [
    {
     "name": "stdout",
     "output_type": "stream",
     "text": [
      "[[[0 4]\n",
      "  [2 6]]\n",
      "\n",
      " [[1 5]\n",
      "  [3 7]]]\n"
     ]
    }
   ],
   "source": [
    "print (np.swapaxes(a, 2, 0))"
   ]
  },
  {
   "cell_type": "code",
   "execution_count": 30,
   "metadata": {},
   "outputs": [
    {
     "name": "stdout",
     "output_type": "stream",
     "text": [
      "(8,)\n",
      "[1 2 9 4 5 6 7 8]\n",
      "(1, 8)\n",
      "[[1 2 9 4 5 6 7 8]]\n",
      "(8, 1)\n",
      "[[1]\n",
      " [2]\n",
      " [9]\n",
      " [4]\n",
      " [5]\n",
      " [6]\n",
      " [7]\n",
      " [8]]\n"
     ]
    }
   ],
   "source": [
    "x = np.array([1, 2, 9, 4, 5, 6, 7, 8])\n",
    "print(x.shape)  # (8,)\n",
    "print(x)  # [1 2 9 4 5 6 7 8]\n",
    "\n",
    "y = x[np.newaxis, :]\n",
    "print(y.shape)  # (1, 8)\n",
    "print(y)  # [[1 2 9 4 5 6 7 8]]\n",
    "\n",
    "y = x[:, np.newaxis]\n",
    "print(y.shape)  # (8, 1)\n",
    "print(y)"
   ]
  },
  {
   "cell_type": "code",
   "execution_count": 31,
   "metadata": {},
   "outputs": [
    {
     "name": "stdout",
     "output_type": "stream",
     "text": [
      "(8,)\n",
      "[1 2 9 4 5 6 7 8]\n",
      "(1, 8)\n",
      "[[1 2 9 4 5 6 7 8]]\n",
      "(8, 1)\n",
      "[[1]\n",
      " [2]\n",
      " [9]\n",
      " [4]\n",
      " [5]\n",
      " [6]\n",
      " [7]\n",
      " [8]]\n"
     ]
    }
   ],
   "source": [
    "x = np.array([1, 2, 9, 4, 5, 6, 7, 8])\n",
    "print(x.shape)  # (8,)\n",
    "print(x)  # [1 2 9 4 5 6 7 8]\n",
    "\n",
    "y = x[np.newaxis, :]\n",
    "print(y.shape)  # (1, 8)\n",
    "print(y)  # [[1 2 9 4 5 6 7 8]]\n",
    "\n",
    "y = x[:, np.newaxis]\n",
    "print(y.shape)  # (8, 1)\n",
    "print(y)\n",
    "# [[1]\n",
    "#  [2]\n",
    "#  [9]\n",
    "#  [4]\n",
    "#  [5]\n",
    "#  [6]\n",
    "#  [7]\n",
    "#  [8]]"
   ]
  },
  {
   "cell_type": "code",
   "execution_count": 32,
   "metadata": {},
   "outputs": [
    {
     "name": "stdout",
     "output_type": "stream",
     "text": [
      "(1, 3, 1)\n",
      "[[[0]\n",
      "  [1]\n",
      "  [2]]]\n",
      "(3,)\n",
      "[0 1 2]\n",
      "(3, 1)\n",
      "[[0]\n",
      " [1]\n",
      " [2]]\n",
      "(1, 3)\n",
      "[[0 1 2]]\n"
     ]
    },
    {
     "ename": "ValueError",
     "evalue": "cannot select an axis to squeeze out which has size not equal to one",
     "output_type": "error",
     "traceback": [
      "\u001b[0;31m---------------------------------------------------------------------------\u001b[0m",
      "\u001b[0;31mValueError\u001b[0m                                Traceback (most recent call last)",
      "\u001b[0;32m<ipython-input-32-c3085cd9b55d>\u001b[0m in \u001b[0;36m<module>\u001b[0;34m()\u001b[0m\n\u001b[1;32m     21\u001b[0m \u001b[0mprint\u001b[0m\u001b[0;34m(\u001b[0m\u001b[0my\u001b[0m\u001b[0;34m)\u001b[0m  \u001b[0;31m# [[0 1 2]]\u001b[0m\u001b[0;34m\u001b[0m\u001b[0;34m\u001b[0m\u001b[0m\n\u001b[1;32m     22\u001b[0m \u001b[0;34m\u001b[0m\u001b[0m\n\u001b[0;32m---> 23\u001b[0;31m \u001b[0my\u001b[0m \u001b[0;34m=\u001b[0m \u001b[0mnp\u001b[0m\u001b[0;34m.\u001b[0m\u001b[0msqueeze\u001b[0m\u001b[0;34m(\u001b[0m\u001b[0mx\u001b[0m\u001b[0;34m,\u001b[0m \u001b[0maxis\u001b[0m\u001b[0;34m=\u001b[0m\u001b[0;36m1\u001b[0m\u001b[0;34m)\u001b[0m\u001b[0;34m\u001b[0m\u001b[0;34m\u001b[0m\u001b[0m\n\u001b[0m",
      "\u001b[0;32m/Users/anaconda3/lib/python3.7/site-packages/numpy/core/fromnumeric.py\u001b[0m in \u001b[0;36msqueeze\u001b[0;34m(a, axis)\u001b[0m\n\u001b[1;32m   1290\u001b[0m         \u001b[0;32mreturn\u001b[0m \u001b[0msqueeze\u001b[0m\u001b[0;34m(\u001b[0m\u001b[0;34m)\u001b[0m\u001b[0;34m\u001b[0m\u001b[0;34m\u001b[0m\u001b[0m\n\u001b[1;32m   1291\u001b[0m     \u001b[0;32melse\u001b[0m\u001b[0;34m:\u001b[0m\u001b[0;34m\u001b[0m\u001b[0;34m\u001b[0m\u001b[0m\n\u001b[0;32m-> 1292\u001b[0;31m         \u001b[0;32mreturn\u001b[0m \u001b[0msqueeze\u001b[0m\u001b[0;34m(\u001b[0m\u001b[0maxis\u001b[0m\u001b[0;34m=\u001b[0m\u001b[0maxis\u001b[0m\u001b[0;34m)\u001b[0m\u001b[0;34m\u001b[0m\u001b[0;34m\u001b[0m\u001b[0m\n\u001b[0m\u001b[1;32m   1293\u001b[0m \u001b[0;34m\u001b[0m\u001b[0m\n\u001b[1;32m   1294\u001b[0m \u001b[0;32mdef\u001b[0m \u001b[0mdiagonal\u001b[0m\u001b[0;34m(\u001b[0m\u001b[0ma\u001b[0m\u001b[0;34m,\u001b[0m \u001b[0moffset\u001b[0m\u001b[0;34m=\u001b[0m\u001b[0;36m0\u001b[0m\u001b[0;34m,\u001b[0m \u001b[0maxis1\u001b[0m\u001b[0;34m=\u001b[0m\u001b[0;36m0\u001b[0m\u001b[0;34m,\u001b[0m \u001b[0maxis2\u001b[0m\u001b[0;34m=\u001b[0m\u001b[0;36m1\u001b[0m\u001b[0;34m)\u001b[0m\u001b[0;34m:\u001b[0m\u001b[0;34m\u001b[0m\u001b[0;34m\u001b[0m\u001b[0m\n",
      "\u001b[0;31mValueError\u001b[0m: cannot select an axis to squeeze out which has size not equal to one"
     ]
    }
   ],
   "source": [
    "x = np.array([[[0], [1], [2]]])\n",
    "print(x.shape)  # (1, 3, 1)\n",
    "print(x)\n",
    "# [[[0]\n",
    "#   [1]\n",
    "#   [2]]]\n",
    "\n",
    "y = np.squeeze(x)\n",
    "print(y.shape)  # (3,)\n",
    "print(y)  # [0 1 2]\n",
    "\n",
    "y = np.squeeze(x, axis=0)\n",
    "print(y.shape)  # (3, 1)\n",
    "print(y)\n",
    "# [[0]\n",
    "#  [1]\n",
    "#  [2]]\n",
    "\n",
    "y = np.squeeze(x, axis=2)\n",
    "print(y.shape)  # (1, 3)\n",
    "print(y)  # [[0 1 2]]\n",
    "\n",
    "y = np.squeeze(x, axis=1)"
   ]
  },
  {
   "cell_type": "code",
   "execution_count": 38,
   "metadata": {},
   "outputs": [
    {
     "name": "stdout",
     "output_type": "stream",
     "text": [
      "(1, 5)\n"
     ]
    },
    {
     "data": {
      "image/png": "[encoded data removed]",
      "text/plain": [
       "<Figure size 432x288 with 1 Axes>"
      ]
     },
     "metadata": {
      "needs_background": "light"
     },
     "output_type": "display_data"
    }
   ],
   "source": [
    "import matplotlib.pyplot as plt\n",
    "%matplotlib inline\n",
    "\n",
    "x = np.array([[1, 4, 9, 16, 25]])\n",
    "print(x.shape)  # (1, 5)\n",
    "plt.plot(x)\n",
    "plt.show()"
   ]
  },
  {
   "cell_type": "code",
   "execution_count": 39,
   "metadata": {},
   "outputs": [
    {
     "name": "stdout",
     "output_type": "stream",
     "text": [
      "[1 2 3 7 8 9]\n",
      "[1 2 3 7 8 9]\n"
     ]
    }
   ],
   "source": [
    "import numpy as np\n",
    "\n",
    "x = np.array([1, 2, 3])\n",
    "y = np.array([7, 8, 9])\n",
    "z = np.concatenate([x, y])\n",
    "print(z)\n",
    "# [1 2 3 7 8 9]\n",
    "\n",
    "z = np.concatenate([x, y], axis=0)\n",
    "print(z)\n",
    "# [1 2 3 7 8 9]"
   ]
  },
  {
   "cell_type": "code",
   "execution_count": 40,
   "metadata": {},
   "outputs": [
    {
     "name": "stdout",
     "output_type": "stream",
     "text": [
      "(2, 3)\n",
      "[[1 2 3]\n",
      " [7 8 9]]\n",
      "(3, 2)\n",
      "[[1 7]\n",
      " [2 8]\n",
      " [3 9]]\n"
     ]
    }
   ],
   "source": [
    "x = np.array([1, 2, 3])\n",
    "y = np.array([7, 8, 9])\n",
    "z = np.stack([x, y])\n",
    "print(z.shape)  # (2, 3)\n",
    "print(z)\n",
    "# [[1 2 3]\n",
    "#  [7 8 9]]\n",
    "\n",
    "z = np.stack([x, y], axis=1)\n",
    "print(z.shape)  # (3, 2)\n",
    "print(z)\n",
    "# [[1 7]\n",
    "#  [2 8]\n",
    "#  [3 9]]\n"
   ]
  },
  {
   "cell_type": "code",
   "execution_count": 41,
   "metadata": {},
   "outputs": [
    {
     "name": "stdout",
     "output_type": "stream",
     "text": [
      "(2, 1, 3)\n",
      "[[[1 2 3]]\n",
      "\n",
      " [[7 8 9]]]\n",
      "(1, 2, 3)\n",
      "[[[1 2 3]\n",
      "  [7 8 9]]]\n",
      "(1, 3, 2)\n",
      "[[[1 7]\n",
      "  [2 8]\n",
      "  [3 9]]]\n"
     ]
    }
   ],
   "source": [
    "x = np.array([1, 2, 3]).reshape(1, 3)\n",
    "y = np.array([7, 8, 9]).reshape(1, 3)\n",
    "z = np.stack([x, y])\n",
    "print(z.shape)  # (2, 1, 3)\n",
    "print(z)\n",
    "# [[[1 2 3]]\n",
    "#\n",
    "#  [[7 8 9]]]\n",
    "\n",
    "z = np.stack([x, y], axis=1)\n",
    "print(z.shape)  # (1, 2, 3)\n",
    "print(z)\n",
    "# [[[1 2 3]\n",
    "#   [7 8 9]]]\n",
    "\n",
    "z = np.stack([x, y], axis=2)\n",
    "print(z.shape)  # (1, 3, 2)\n",
    "print(z)\n",
    "# [[[1 7]\n",
    "#   [2 8]\n",
    "#   [3 9]]]\n"
   ]
  },
  {
   "cell_type": "code",
   "execution_count": 44,
   "metadata": {},
   "outputs": [
    {
     "name": "stdout",
     "output_type": "stream",
     "text": [
      "(2, 3)\n",
      "[[1 2 3]\n",
      " [7 8 9]]\n",
      "(2, 3)\n",
      "[[1 2 3]\n",
      " [7 8 9]]\n",
      "(6,)\n",
      "[1 2 3 7 8 9]\n"
     ]
    }
   ],
   "source": [
    "x = np.array([1, 2, 3])\n",
    "y = np.array([7, 8, 9])\n",
    "z = np.vstack((x, y))\n",
    "print(z.shape)  # (2, 3)\n",
    "print(z)\n",
    "# [[1 2 3]\n",
    "#  [7 8 9]]\n",
    "\n",
    "z = np.stack([x, y])\n",
    "print(z.shape)  # (2, 3)\n",
    "print(z)\n",
    "# [[1 2 3]\n",
    "#  [7 8 9]]\n",
    "\n",
    "z = np.hstack((x, y))\n",
    "print(z.shape)  # (6,)\n",
    "print(z)\n",
    "# [1  2  3  7  8  9]"
   ]
  },
  {
   "cell_type": "code",
   "execution_count": 45,
   "metadata": {},
   "outputs": [
    {
     "name": "stdout",
     "output_type": "stream",
     "text": [
      "(1, 6)\n",
      "[[1 2 3 7 8 9]]\n"
     ]
    }
   ],
   "source": [
    "x = np.array([1, 2, 3]).reshape(1, 3)\n",
    "y = np.array([7, 8, 9]).reshape(1, 3)\n",
    "z = np.hstack((x, y))\n",
    "print(z.shape)  # (1, 6)\n",
    "print(z)\n",
    "# [[ 1  2  3  7  8  9]]"
   ]
  },
  {
   "cell_type": "code",
   "execution_count": 47,
   "metadata": {},
   "outputs": [
    {
     "name": "stdout",
     "output_type": "stream",
     "text": [
      "(2, 3)\n",
      "[[1 2 3]\n",
      " [7 8 9]]\n",
      "(4, 3)\n",
      "[[ 1  2  3]\n",
      " [ 4  5  6]\n",
      " [ 7  8  9]\n",
      " [10 11 12]]\n"
     ]
    }
   ],
   "source": [
    "x = np.array([1, 2, 3])\n",
    "y = np.array([7, 8, 9])\n",
    "z = np.vstack((x, y))\n",
    "print(z.shape)  # (2, 3)\n",
    "print(z)\n",
    "# [[1 2 3]\n",
    "#  [7 8 9]]\n",
    "\n",
    "x = np.array([[1, 2, 3], [4, 5, 6]])\n",
    "y = np.array([[7, 8, 9], [10, 11, 12]])\n",
    "z = np.vstack((x, y))\n",
    "print(z.shape)  # (4, 3)\n",
    "print(z)\n",
    "# [[ 1  2  3]\n",
    "#  [ 4  5  6]\n",
    "#  [ 7  8  9]\n",
    "#  [10 11 12]]"
   ]
  },
  {
   "cell_type": "code",
   "execution_count": 48,
   "metadata": {},
   "outputs": [
    {
     "name": "stdout",
     "output_type": "stream",
     "text": [
      "[array([[11, 12, 13, 14]]), array([[16, 17, 18, 19],\n",
      "       [21, 22, 23, 24]]), array([], shape=(0, 4), dtype=int64)]\n",
      "[array([[11],\n",
      "       [16],\n",
      "       [21]]), array([[12, 13],\n",
      "       [17, 18],\n",
      "       [22, 23]]), array([[14],\n",
      "       [19],\n",
      "       [24]])]\n"
     ]
    }
   ],
   "source": [
    "x = np.array([[11, 12, 13, 14],\n",
    "              [16, 17, 18, 19],\n",
    "              [21, 22, 23, 24]])\n",
    "y = np.split(x, [1, 3])\n",
    "print(y)\n",
    "# [array([[11, 12, 13, 14]]), array([[16, 17, 18, 19],\n",
    "#        [21, 22, 23, 24]]), array([], shape=(0, 4), dtype=int32)]\n",
    "\n",
    "y = np.split(x, [1, 3], axis=1)\n",
    "print(y)\n",
    "# [array([[11],\n",
    "#        [16],\n",
    "#        [21]]), array([[12, 13],\n",
    "#        [17, 18],\n",
    "#        [22, 23]]), array([[14],\n",
    "#        [19],\n",
    "#        [24]])]"
   ]
  },
  {
   "cell_type": "code",
   "execution_count": 49,
   "metadata": {},
   "outputs": [
    {
     "name": "stdout",
     "output_type": "stream",
     "text": [
      "[array([[11, 12, 13, 14]]), array([[16, 17, 18, 19]]), array([[21, 22, 23, 24]])]\n",
      "[array([[11, 12, 13, 14]]), array([[16, 17, 18, 19]]), array([[21, 22, 23, 24]])]\n",
      "[array([[11, 12, 13, 14]]), array([[16, 17, 18, 19],\n",
      "       [21, 22, 23, 24]])]\n",
      "[array([[11, 12, 13, 14]]), array([[16, 17, 18, 19],\n",
      "       [21, 22, 23, 24]])]\n",
      "[array([[11, 12, 13, 14]]), array([[16, 17, 18, 19],\n",
      "       [21, 22, 23, 24]]), array([], shape=(0, 4), dtype=int64)]\n",
      "[array([[11, 12, 13, 14]]), array([[16, 17, 18, 19],\n",
      "       [21, 22, 23, 24]]), array([], shape=(0, 4), dtype=int64)]\n"
     ]
    }
   ],
   "source": [
    "x = np.array([[11, 12, 13, 14],\n",
    "              [16, 17, 18, 19],\n",
    "              [21, 22, 23, 24]])\n",
    "y = np.vsplit(x, 3)\n",
    "print(y)\n",
    "# [array([[11, 12, 13, 14]]), array([[16, 17, 18, 19]]), array([[21, 22, 23, 24]])]\n",
    "\n",
    "y = np.split(x, 3)\n",
    "print(y)\n",
    "# [array([[11, 12, 13, 14]]), array([[16, 17, 18, 19]]), array([[21, 22, 23, 24]])]\n",
    "\n",
    "\n",
    "y = np.vsplit(x, [1])\n",
    "print(y)\n",
    "# [array([[11, 12, 13, 14]]), array([[16, 17, 18, 19],\n",
    "#        [21, 22, 23, 24]])]\n",
    "\n",
    "y = np.split(x, [1])\n",
    "print(y)\n",
    "# [array([[11, 12, 13, 14]]), array([[16, 17, 18, 19],\n",
    "#        [21, 22, 23, 24]])]\n",
    "\n",
    "\n",
    "y = np.vsplit(x, [1, 3])\n",
    "print(y)\n",
    "# [array([[11, 12, 13, 14]]), array([[16, 17, 18, 19],\n",
    "#        [21, 22, 23, 24]]), array([], shape=(0, 4), dtype=int32)]\n",
    "y = np.split(x, [1, 3], axis=0)\n",
    "print(y)\n",
    "# [array([[11, 12, 13, 14]]), array([[16, 17, 18, 19],\n",
    "#        [21, 22, 23, 24]]), array([], shape=(0, 4), dtype=int32)]\n"
   ]
  },
  {
   "cell_type": "code",
   "execution_count": 50,
   "metadata": {},
   "outputs": [
    {
     "name": "stdout",
     "output_type": "stream",
     "text": [
      "[array([[11, 12],\n",
      "       [16, 17],\n",
      "       [21, 22]]), array([[13, 14],\n",
      "       [18, 19],\n",
      "       [23, 24]])]\n",
      "[array([[11, 12],\n",
      "       [16, 17],\n",
      "       [21, 22]]), array([[13, 14],\n",
      "       [18, 19],\n",
      "       [23, 24]])]\n",
      "[array([[11, 12, 13],\n",
      "       [16, 17, 18],\n",
      "       [21, 22, 23]]), array([[14],\n",
      "       [19],\n",
      "       [24]])]\n",
      "[array([[11, 12, 13],\n",
      "       [16, 17, 18],\n",
      "       [21, 22, 23]]), array([[14],\n",
      "       [19],\n",
      "       [24]])]\n",
      "[array([[11],\n",
      "       [16],\n",
      "       [21]]), array([[12, 13],\n",
      "       [17, 18],\n",
      "       [22, 23]]), array([[14],\n",
      "       [19],\n",
      "       [24]])]\n",
      "[array([[11],\n",
      "       [16],\n",
      "       [21]]), array([[12, 13],\n",
      "       [17, 18],\n",
      "       [22, 23]]), array([[14],\n",
      "       [19],\n",
      "       [24]])]\n"
     ]
    }
   ],
   "source": [
    "x = np.array([[11, 12, 13, 14],\n",
    "              [16, 17, 18, 19],\n",
    "              [21, 22, 23, 24]])\n",
    "y = np.hsplit(x, 2)\n",
    "print(y)\n",
    "# [array([[11, 12],\n",
    "#        [16, 17],\n",
    "#        [21, 22]]), array([[13, 14],\n",
    "#        [18, 19],\n",
    "#        [23, 24]])]\n",
    "\n",
    "y = np.split(x, 2, axis=1)\n",
    "print(y)\n",
    "# [array([[11, 12],\n",
    "#        [16, 17],\n",
    "#        [21, 22]]), array([[13, 14],\n",
    "#        [18, 19],\n",
    "#        [23, 24]])]\n",
    "\n",
    "y = np.hsplit(x, [3])\n",
    "print(y)\n",
    "# [array([[11, 12, 13],\n",
    "#        [16, 17, 18],\n",
    "#        [21, 22, 23]]), array([[14],\n",
    "#        [19],\n",
    "#        [24]])]\n",
    "\n",
    "y = np.split(x, [3], axis=1)\n",
    "print(y)\n",
    "# [array([[11, 12, 13],\n",
    "#        [16, 17, 18],\n",
    "#        [21, 22, 23]]), array([[14],\n",
    "#        [19],\n",
    "#        [24]])]\n",
    "\n",
    "y = np.hsplit(x, [1, 3])\n",
    "print(y)\n",
    "# [array([[11],\n",
    "#        [16],\n",
    "#        [21]]), array([[12, 13],\n",
    "#        [17, 18],\n",
    "#        [22, 23]]), array([[14],\n",
    "#        [19],\n",
    "#        [24]])]\n",
    "\n",
    "y = np.split(x, [1, 3], axis=1)\n",
    "print(y)\n",
    "# [array([[11],\n",
    "#        [16],\n",
    "#        [21]]), array([[12, 13],\n",
    "#        [17, 18],\n",
    "#        [22, 23]]), array([[14],\n",
    "#        [19],\n",
    "#        [24]])]\n"
   ]
  },
  {
   "cell_type": "code",
   "execution_count": 51,
   "metadata": {},
   "outputs": [
    {
     "name": "stdout",
     "output_type": "stream",
     "text": [
      "[[1 2 1 2]\n",
      " [1 2 1 2]]\n"
     ]
    }
   ],
   "source": [
    "y = np.tile([1,2],(2,2))\n",
    "print(y)"
   ]
  },
  {
   "cell_type": "code",
   "execution_count": 52,
   "metadata": {},
   "outputs": [
    {
     "name": "stdout",
     "output_type": "stream",
     "text": [
      "[[1 2]\n",
      " [3 4]]\n",
      "[[1 2 1 2 1 2]\n",
      " [3 4 3 4 3 4]]\n",
      "[[1 2]\n",
      " [3 4]\n",
      " [1 2]\n",
      " [3 4]\n",
      " [1 2]\n",
      " [3 4]]\n",
      "[[1 2 1 2 1 2]\n",
      " [3 4 3 4 3 4]\n",
      " [1 2 1 2 1 2]\n",
      " [3 4 3 4 3 4]\n",
      " [1 2 1 2 1 2]\n",
      " [3 4 3 4 3 4]]\n"
     ]
    }
   ],
   "source": [
    "x = np.array([[1, 2], [3, 4]])\n",
    "print(x)\n",
    "# [[1 2]\n",
    "#  [3 4]]\n",
    "\n",
    "y = np.tile(x, (1, 3))\n",
    "print(y)\n",
    "# [[1 2 1 2 1 2]\n",
    "#  [3 4 3 4 3 4]]\n",
    "\n",
    "y = np.tile(x, (3, 1))\n",
    "print(y)\n",
    "# [[1 2]\n",
    "#  [3 4]\n",
    "#  [1 2]\n",
    "#  [3 4]\n",
    "#  [1 2]\n",
    "#  [3 4]]\n",
    "\n",
    "y = np.tile(x, (3, 3))\n",
    "print(y)\n",
    "# [[1 2 1 2 1 2]\n",
    "#  [3 4 3 4 3 4]\n",
    "#  [1 2 1 2 1 2]\n",
    "#  [3 4 3 4 3 4]\n",
    "#  [1 2 1 2 1 2]\n",
    "#  [3 4 3 4 3 4]]"
   ]
  },
  {
   "cell_type": "code",
   "execution_count": 53,
   "metadata": {},
   "outputs": [
    {
     "name": "stdout",
     "output_type": "stream",
     "text": [
      "[3 3 3 3]\n",
      "[1 1 2 2 3 3 4 4]\n",
      "[[1 2]\n",
      " [1 2]\n",
      " [3 4]\n",
      " [3 4]]\n",
      "[[1 1 2 2]\n",
      " [3 3 4 4]]\n",
      "[[1 2]\n",
      " [1 2]\n",
      " [3 4]\n",
      " [3 4]\n",
      " [3 4]]\n",
      "[[1 1 2 2 2]\n",
      " [3 3 4 4 4]]\n"
     ]
    }
   ],
   "source": [
    "x = np.repeat(3, 4)\n",
    "print(x)  # [3 3 3 3]\n",
    "\n",
    "x = np.array([[1, 2], [3, 4]])\n",
    "y = np.repeat(x, 2)\n",
    "print(y)\n",
    "# [1 1 2 2 3 3 4 4]\n",
    "\n",
    "y = np.repeat(x, 2, axis=0)\n",
    "print(y)\n",
    "# [[1 2]\n",
    "#  [1 2]\n",
    "#  [3 4]\n",
    "#  [3 4]]\n",
    "\n",
    "y = np.repeat(x, 2, axis=1)\n",
    "print(y)\n",
    "# [[1 1 2 2]\n",
    "#  [3 3 4 4]]\n",
    "\n",
    "y = np.repeat(x, [2, 3], axis=0)\n",
    "print(y)\n",
    "# [[1 2]\n",
    "#  [1 2]\n",
    "#  [3 4]\n",
    "#  [3 4]\n",
    "#  [3 4]]\n",
    "\n",
    "y = np.repeat(x, [2, 3], axis=1)\n",
    "print(y)\n",
    "# [[1 1 2 2 2]\n",
    "#  [3 3 4 4 4]]\n"
   ]
  },
  {
   "cell_type": "code",
   "execution_count": 54,
   "metadata": {},
   "outputs": [
    {
     "name": "stdout",
     "output_type": "stream",
     "text": [
      "[[0 1 2 3 4]\n",
      " [5 6 7 8 9]]\n"
     ]
    }
   ],
   "source": [
    "arr = np.arange(10)\n",
    "\n",
    "x = np.reshape(arr, newshape=[2,5])\n",
    "print(x)"
   ]
  },
  {
   "cell_type": "code",
   "execution_count": 56,
   "metadata": {},
   "outputs": [
    {
     "name": "stdout",
     "output_type": "stream",
     "text": [
      "[[0 1 2 3 4]\n",
      " [5 6 7 8 9]\n",
      " [1 1 1 1 1]\n",
      " [1 1 1 1 1]]\n"
     ]
    }
   ],
   "source": [
    "a = np.arange(10).reshape([2, -1])\n",
    "b = np.repeat(1, 10).reshape([2, -1])\n",
    "\n",
    "print(np.vstack((a,b)))"
   ]
  },
  {
   "cell_type": "code",
   "execution_count": 59,
   "metadata": {},
   "outputs": [
    {
     "name": "stdout",
     "output_type": "stream",
     "text": [
      "[16 11 21 31 26 17 12 22 32 27 18 13 23 33 28 19 14 24 34 29 20 15 25 35\n",
      " 30]\n"
     ]
    }
   ],
   "source": [
    "arr =  np.array([[16, 17, 18, 19, 20],[11, 12, 13, 14, 15],[21, 22, 23, 24, 25],[31, 32, 33, 34, 35],[26, 27, 28, 29, 30]])\n",
    "x = arr.flatten(order='F')\n",
    "print(x)"
   ]
  },
  {
   "cell_type": "code",
   "execution_count": 61,
   "metadata": {},
   "outputs": [
    {
     "name": "stdout",
     "output_type": "stream",
     "text": [
      "True\n",
      "True\n"
     ]
    }
   ],
   "source": [
    "A = np.array([1,2,3])\n",
    "B = np.array([1,2,3])\n",
    "\n",
    "# Assuming identical shape of the arrays and a tolerance for the comparison of values\n",
    "equal = np.allclose(A,B)\n",
    "print(equal)\n",
    "\n",
    "# Checking both the shape and the element values, no tolerance (values have to be exactly equal)\n",
    "equal = np.array_equal(A,B)\n",
    "print(equal)"
   ]
  },
  {
   "cell_type": "code",
   "execution_count": 64,
   "metadata": {},
   "outputs": [
    {
     "name": "stdout",
     "output_type": "stream",
     "text": [
      "[0 0 3 0 2 4 2 2 2 2]\n",
      "[False  True False  True False False  True  True  True  True]\n"
     ]
    }
   ],
   "source": [
    "np.random.seed(100)\n",
    "a = np.random.randint(0, 5, 10)\n",
    "print(a)\n",
    "# [0 0 3 0 2 4 2 2 2 2]\n",
    "b = np.full(10, True)\n",
    "vals, counts = np.unique(a, return_index=True)\n",
    "b[counts] = False\n",
    "print(b)\n",
    "# [False  True False  True False False  True  True  True  True]"
   ]
  },
  {
   "cell_type": "code",
   "execution_count": null,
   "metadata": {},
   "outputs": [],
   "source": []
  }
 ],
 "metadata": {
  "kernelspec": {
   "display_name": "Python 3",
   "language": "python",
   "name": "python3"
  },
  "language_info": {
   "codemirror_mode": {
    "name": "ipython",
    "version": 3
   },
   "file_extension": ".py",
   "mimetype": "text/x-python",
   "name": "python",
   "nbconvert_exporter": "python",
   "pygments_lexer": "ipython3",
   "version": "3.7.2"
  }
 },
 "nbformat": 4,
 "nbformat_minor": 2
}
