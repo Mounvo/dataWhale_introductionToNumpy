{
 "cells": [
  {
   "cell_type": "code",
   "execution_count": 4,
   "metadata": {
    "scrolled": true
   },
   "outputs": [
    {
     "name": "stdout",
     "output_type": "stream",
     "text": [
      "(4,)\n",
      "(3, 4)\n",
      "(3, 4)\n",
      "[[1. 2. 3. 4.]\n",
      " [1. 2. 3. 4.]\n",
      " [1. 2. 3. 4.]]\n"
     ]
    }
   ],
   "source": [
    "import numpy as np\n",
    "\n",
    "x = np.arange(4)\n",
    "y = np.ones((3, 4))\n",
    "print(x.shape)  # (4,)\n",
    "print(y.shape)  # (3, 4)\n",
    "\n",
    "print((x + y).shape)  # (3, 4)\n",
    "print(x + y)\n",
    "# [[1. 2. 3. 4.]\n",
    "#  [1. 2. 3. 4.]\n",
    "#  [1. 2. 3. 4.]]"
   ]
  },
  {
   "cell_type": "code",
   "execution_count": 5,
   "metadata": {},
   "outputs": [
    {
     "name": "stdout",
     "output_type": "stream",
     "text": [
      "(4, 1)\n",
      "(5,)\n",
      "(4, 5)\n",
      "[[1. 1. 1. 1. 1.]\n",
      " [2. 2. 2. 2. 2.]\n",
      " [3. 3. 3. 3. 3.]\n",
      " [4. 4. 4. 4. 4.]]\n",
      "[[ 1.  2.  3.]\n",
      " [11. 12. 13.]\n",
      " [21. 22. 23.]\n",
      " [31. 32. 33.]]\n"
     ]
    }
   ],
   "source": [
    "x = np.arange(4).reshape(4, 1)\n",
    "y = np.ones(5)\n",
    "\n",
    "print(x.shape)  # (4, 1)\n",
    "print(y.shape)  # (5,)\n",
    "\n",
    "print((x + y).shape)  # (4, 5)\n",
    "print(x + y)\n",
    "# [[1. 1. 1. 1. 1.]\n",
    "#  [2. 2. 2. 2. 2.]\n",
    "#  [3. 3. 3. 3. 3.]\n",
    "#  [4. 4. 4. 4. 4.]]\n",
    "\n",
    "x = np.array([0.0, 10.0, 20.0, 30.0])\n",
    "y = np.array([1.0, 2.0, 3.0])\n",
    "z = x[:, np.newaxis] + y\n",
    "print(z)\n",
    "# [[ 1.  2.  3.]\n",
    "#  [11. 12. 13.]\n",
    "#  [21. 22. 23.]\n",
    "#  [31. 32. 33.]]"
   ]
  },
  {
   "cell_type": "code",
   "execution_count": 6,
   "metadata": {},
   "outputs": [
    {
     "name": "stdout",
     "output_type": "stream",
     "text": [
      "(4,)\n",
      "(5,)\n"
     ]
    },
    {
     "ename": "ValueError",
     "evalue": "operands could not be broadcast together with shapes (4,) (5,) ",
     "output_type": "error",
     "traceback": [
      "\u001b[0;31m---------------------------------------------------------------------------\u001b[0m",
      "\u001b[0;31mValueError\u001b[0m                                Traceback (most recent call last)",
      "\u001b[0;32m<ipython-input-6-e34c2ca26660>\u001b[0m in \u001b[0;36m<module>\u001b[0;34m()\u001b[0m\n\u001b[1;32m      5\u001b[0m \u001b[0mprint\u001b[0m\u001b[0;34m(\u001b[0m\u001b[0my\u001b[0m\u001b[0;34m.\u001b[0m\u001b[0mshape\u001b[0m\u001b[0;34m)\u001b[0m  \u001b[0;31m# (5,)\u001b[0m\u001b[0;34m\u001b[0m\u001b[0;34m\u001b[0m\u001b[0m\n\u001b[1;32m      6\u001b[0m \u001b[0;34m\u001b[0m\u001b[0m\n\u001b[0;32m----> 7\u001b[0;31m \u001b[0mprint\u001b[0m\u001b[0;34m(\u001b[0m\u001b[0mx\u001b[0m \u001b[0;34m+\u001b[0m \u001b[0my\u001b[0m\u001b[0;34m)\u001b[0m\u001b[0;34m\u001b[0m\u001b[0;34m\u001b[0m\u001b[0m\n\u001b[0m\u001b[1;32m      8\u001b[0m \u001b[0;31m# ValueError: operands could not be broadcast together with shapes (4,) (5,)\u001b[0m\u001b[0;34m\u001b[0m\u001b[0;34m\u001b[0m\u001b[0;34m\u001b[0m\u001b[0m\n",
      "\u001b[0;31mValueError\u001b[0m: operands could not be broadcast together with shapes (4,) (5,) "
     ]
    }
   ],
   "source": [
    "x = np.arange(4)\n",
    "y = np.ones(5)\n",
    "\n",
    "print(x.shape)  # (4,)\n",
    "print(y.shape)  # (5,)\n",
    "\n",
    "print(x + y)\n",
    "# ValueError: operands could not be broadcast together with shapes (4,) (5,) "
   ]
  },
  {
   "cell_type": "code",
   "execution_count": 25,
   "metadata": {},
   "outputs": [
    {
     "name": "stdout",
     "output_type": "stream",
     "text": [
      "[2 3 4 5 6 7 8 9]\n",
      "[2 3 4 5 6 7 8 9]\n"
     ]
    }
   ],
   "source": [
    "x = np.array([1, 2, 3, 4, 5, 6, 7, 8])\n",
    "y = x + 1\n",
    "print(y)\n",
    "print(np.add(x, 1))\n",
    "# [2 3 4 5 6 7 8 9]"
   ]
  },
  {
   "cell_type": "code",
   "execution_count": 8,
   "metadata": {},
   "outputs": [
    {
     "name": "stdout",
     "output_type": "stream",
     "text": [
      "[0 1 2 3 4 5 6 7]\n",
      "[0 1 2 3 4 5 6 7]\n"
     ]
    }
   ],
   "source": [
    "y = x - 1\n",
    "print(y)\n",
    "print(np.subtract(x, 1))\n",
    "# [0 1 2 3 4 5 6 7]"
   ]
  },
  {
   "cell_type": "code",
   "execution_count": 9,
   "metadata": {},
   "outputs": [
    {
     "name": "stdout",
     "output_type": "stream",
     "text": [
      "[ 2  4  6  8 10 12 14 16]\n",
      "[ 2  4  6  8 10 12 14 16]\n"
     ]
    }
   ],
   "source": [
    "y = x * 2\n",
    "print(y)\n",
    "print(np.multiply(x, 2))\n",
    "# [ 2  4  6  8 10 12 14 16]"
   ]
  },
  {
   "cell_type": "code",
   "execution_count": 23,
   "metadata": {
    "scrolled": true
   },
   "outputs": [
    {
     "name": "stdout",
     "output_type": "stream",
     "text": [
      "[[ 5.5  6.   6.5  7.   7.5]\n",
      " [ 8.   8.5  9.   9.5 10. ]\n",
      " [10.5 11.  11.5 12.  12.5]\n",
      " [13.  13.5 14.  14.5 15. ]\n",
      " [15.5 16.  16.5 17.  17.5]]\n",
      "[[ 5.5  6.   6.5  7.   7.5]\n",
      " [ 8.   8.5  9.   9.5 10. ]\n",
      " [10.5 11.  11.5 12.  12.5]\n",
      " [13.  13.5 14.  14.5 15. ]\n",
      " [15.5 16.  16.5 17.  17.5]]\n"
     ]
    }
   ],
   "source": [
    "y = x / 2\n",
    "print(y)\n",
    "print(np.divide(x, 2))\n",
    "# [0.5 1.  1.5 2.  2.5 3.  3.5 4. ]"
   ]
  },
  {
   "cell_type": "code",
   "execution_count": 26,
   "metadata": {},
   "outputs": [
    {
     "name": "stdout",
     "output_type": "stream",
     "text": [
      "[1 2 0 1 2 0 1 2]\n",
      "[1 2 0 1 2 0 1 2]\n"
     ]
    }
   ],
   "source": [
    "y = x % 3\n",
    "print(y)\n",
    "print(np.mod(x,3))"
   ]
  },
  {
   "cell_type": "code",
   "execution_count": 11,
   "metadata": {},
   "outputs": [
    {
     "name": "stdout",
     "output_type": "stream",
     "text": [
      "[ 1  4  9 16 25 36 49 64]\n",
      "[ 1  4  9 16 25 36 49 64]\n"
     ]
    }
   ],
   "source": [
    "y = x ** 2\n",
    "print(y)\n",
    "print(np.power(x, 2))\n",
    "# [ 1  4  9 16 25 36 49 64]"
   ]
  },
  {
   "cell_type": "code",
   "execution_count": 13,
   "metadata": {},
   "outputs": [
    {
     "name": "stdout",
     "output_type": "stream",
     "text": [
      "[1 2 3 4]\n",
      "[1.         1.41421356 1.73205081 2.        ]\n",
      "[1.         1.41421356 1.73205081 2.        ]\n"
     ]
    }
   ],
   "source": [
    "x = np.arange(1, 5)\n",
    "print(x)  # [1 2 3 4]\n",
    "\n",
    "y = np.sqrt(x)\n",
    "print(y)\n",
    "# [1.         1.41421356 1.73205081 2.        ]\n",
    "print(np.power(x,0.5))"
   ]
  },
  {
   "cell_type": "code",
   "execution_count": 22,
   "metadata": {},
   "outputs": [
    {
     "name": "stdout",
     "output_type": "stream",
     "text": [
      "[1 2 3 4 5]\n",
      "[[12 14 16 18 20]\n",
      " [17 19 21 23 25]\n",
      " [22 24 26 28 30]\n",
      " [27 29 31 33 35]\n",
      " [32 34 36 38 40]]\n",
      "[[12 14 16 18 20]\n",
      " [17 19 21 23 25]\n",
      " [22 24 26 28 30]\n",
      " [27 29 31 33 35]\n",
      " [32 34 36 38 40]]\n",
      "[[0 0 1 2 0]\n",
      " [0 1 0 3 0]\n",
      " [0 0 2 0 0]\n",
      " [0 1 1 1 0]\n",
      " [0 0 0 2 0]]\n",
      "[[0 0 1 2 0]\n",
      " [0 1 0 3 0]\n",
      " [0 0 2 0 0]\n",
      " [0 1 1 1 0]\n",
      " [0 0 0 2 0]]\n"
     ]
    }
   ],
   "source": [
    "x = np.array([[11, 12, 13, 14, 15],\n",
    "              [16, 17, 18, 19, 20],\n",
    "              [21, 22, 23, 24, 25],\n",
    "              [26, 27, 28, 29, 30],\n",
    "              [31, 32, 33, 34, 35]])\n",
    "y = np.arange(1,6)\n",
    "print(y)\n",
    "\n",
    "z = x + y\n",
    "print(z)\n",
    "print(np.add(x,y))\n",
    "\n",
    "z = x % y\n",
    "print(z)\n",
    "print(np.mod(x,y))"
   ]
  },
  {
   "cell_type": "code",
   "execution_count": 15,
   "metadata": {},
   "outputs": [
    {
     "name": "stdout",
     "output_type": "stream",
     "text": [
      "[[10 10 10 10 10]\n",
      " [15 15 15 15 15]\n",
      " [20 20 20 20 20]\n",
      " [25 25 25 25 25]\n",
      " [30 30 30 30 30]]\n",
      "[[10 10 10 10 10]\n",
      " [15 15 15 15 15]\n",
      " [20 20 20 20 20]\n",
      " [25 25 25 25 25]\n",
      " [30 30 30 30 30]]\n",
      "[[ 11  24  39  56  75]\n",
      " [ 16  34  54  76 100]\n",
      " [ 21  44  69  96 125]\n",
      " [ 26  54  84 116 150]\n",
      " [ 31  64  99 136 175]]\n",
      "[[ 11  24  39  56  75]\n",
      " [ 16  34  54  76 100]\n",
      " [ 21  44  69  96 125]\n",
      " [ 26  54  84 116 150]\n",
      " [ 31  64  99 136 175]]\n",
      "[[11.          6.          4.33333333  3.5         3.        ]\n",
      " [16.          8.5         6.          4.75        4.        ]\n",
      " [21.         11.          7.66666667  6.          5.        ]\n",
      " [26.         13.5         9.33333333  7.25        6.        ]\n",
      " [31.         16.         11.          8.5         7.        ]]\n",
      "[[11.          6.          4.33333333  3.5         3.        ]\n",
      " [16.          8.5         6.          4.75        4.        ]\n",
      " [21.         11.          7.66666667  6.          5.        ]\n",
      " [26.         13.5         9.33333333  7.25        6.        ]\n",
      " [31.         16.         11.          8.5         7.        ]]\n",
      "[[11  6  4  3  3]\n",
      " [16  8  6  4  4]\n",
      " [21 11  7  6  5]\n",
      " [26 13  9  7  6]\n",
      " [31 16 11  8  7]]\n",
      "[[11  6  4  3  3]\n",
      " [16  8  6  4  4]\n",
      " [21 11  7  6  5]\n",
      " [26 13  9  7  6]\n",
      " [31 16 11  8  7]]\n",
      "[[ 121  144  169  196  225]\n",
      " [ 256  289  324  361  400]\n",
      " [ 441  484  529  576  625]\n",
      " [ 676  729  784  841  900]\n",
      " [ 961 1024 1089 1156 1225]]\n",
      "[[ 121  144  169  196  225]\n",
      " [ 256  289  324  361  400]\n",
      " [ 441  484  529  576  625]\n",
      " [ 676  729  784  841  900]\n",
      " [ 961 1024 1089 1156 1225]]\n"
     ]
    }
   ],
   "source": [
    "z = x - y\n",
    "print(z)\n",
    "print(np.subtract(x, y))\n",
    "# [[10 10 10 10 10]\n",
    "#  [15 15 15 15 15]\n",
    "#  [20 20 20 20 20]\n",
    "#  [25 25 25 25 25]\n",
    "#  [30 30 30 30 30]]\n",
    "\n",
    "z = x * y\n",
    "print(z)\n",
    "print(np.multiply(x, y))\n",
    "# [[ 11  24  39  56  75]\n",
    "#  [ 16  34  54  76 100]\n",
    "#  [ 21  44  69  96 125]\n",
    "#  [ 26  54  84 116 150]\n",
    "#  [ 31  64  99 136 175]]\n",
    "\n",
    "z = x / y\n",
    "print(z)\n",
    "print(np.divide(x, y))\n",
    "# [[11.          6.          4.33333333  3.5         3.        ]\n",
    "#  [16.          8.5         6.          4.75        4.        ]\n",
    "#  [21.         11.          7.66666667  6.          5.        ]\n",
    "#  [26.         13.5         9.33333333  7.25        6.        ]\n",
    "#  [31.         16.         11.          8.5         7.        ]]\n",
    "\n",
    "z = x // y\n",
    "print(z)\n",
    "print(np.floor_divide(x, y))\n",
    "# [[11  6  4  3  3]\n",
    "#  [16  8  6  4  4]\n",
    "#  [21 11  7  6  5]\n",
    "#  [26 13  9  7  6]\n",
    "#  [31 16 11  8  7]]\n",
    "\n",
    "z = x ** np.full([1, 5], 2)\n",
    "print(z)\n",
    "print(np.power(x, np.full([5, 5], 2)))\n",
    "# [[ 121  144  169  196  225]\n",
    "#  [ 256  289  324  361  400]\n",
    "#  [ 441  484  529  576  625]\n",
    "#  [ 676  729  784  841  900]\n",
    "#  [ 961 1024 1089 1156 1225]]"
   ]
  },
  {
   "cell_type": "code",
   "execution_count": 16,
   "metadata": {},
   "outputs": [
    {
     "name": "stdout",
     "output_type": "stream",
     "text": [
      "[0.         0.17453293 0.34906585 0.52359878 0.6981317  0.87266463\n",
      " 1.04719755 1.22173048 1.3962634  1.57079633]\n",
      "[0.         0.17364818 0.34202014 0.5        0.64278761 0.76604444\n",
      " 0.8660254  0.93969262 0.98480775 1.        ]\n",
      "[0.         0.17453293 0.34906585 0.52359878 0.6981317  0.87266463\n",
      " 1.04719755 1.22173048 1.3962634  1.57079633]\n",
      "[1.00000000e+00 9.84807753e-01 9.39692621e-01 8.66025404e-01\n",
      " 7.66044443e-01 6.42787610e-01 5.00000000e-01 3.42020143e-01\n",
      " 1.73648178e-01 6.12323400e-17]\n",
      "[0.         0.17453293 0.34906585 0.52359878 0.6981317  0.87266463\n",
      " 1.04719755 1.22173048 1.3962634  1.57079633]\n",
      "[0.00000000e+00 1.76326981e-01 3.63970234e-01 5.77350269e-01\n",
      " 8.39099631e-01 1.19175359e+00 1.73205081e+00 2.74747742e+00\n",
      " 5.67128182e+00 1.63312394e+16]\n",
      "[0.         0.17453293 0.34906585 0.52359878 0.6981317  0.87266463\n",
      " 1.04719755 1.22173048 1.3962634  1.57079633]\n"
     ]
    }
   ],
   "source": [
    "x = np.linspace(start=0, stop=np.pi / 2, num=10)\n",
    "print(x)\n",
    "# [0.         0.17453293 0.34906585 0.52359878 0.6981317  0.87266463\n",
    "#  1.04719755 1.22173048 1.3962634  1.57079633]\n",
    "\n",
    "y = np.sin(x)\n",
    "print(y)\n",
    "# [0.         0.17364818 0.34202014 0.5        0.64278761 0.76604444\n",
    "#  0.8660254  0.93969262 0.98480775 1.        ]\n",
    "\n",
    "z = np.arcsin(y)\n",
    "print(z)\n",
    "# [0.         0.17453293 0.34906585 0.52359878 0.6981317  0.87266463\n",
    "#  1.04719755 1.22173048 1.3962634  1.57079633]\n",
    "\n",
    "y = np.cos(x)\n",
    "print(y)\n",
    "# [1.00000000e+00 9.84807753e-01 9.39692621e-01 8.66025404e-01\n",
    "#  7.66044443e-01 6.42787610e-01 5.00000000e-01 3.42020143e-01\n",
    "#  1.73648178e-01 6.12323400e-17]\n",
    "\n",
    "z = np.arccos(y)\n",
    "print(z)\n",
    "# [0.         0.17453293 0.34906585 0.52359878 0.6981317  0.87266463\n",
    "#  1.04719755 1.22173048 1.3962634  1.57079633]\n",
    "\n",
    "y = np.tan(x)\n",
    "print(y)\n",
    "# [0.00000000e+00 1.76326981e-01 3.63970234e-01 5.77350269e-01\n",
    "#  8.39099631e-01 1.19175359e+00 1.73205081e+00 2.74747742e+00\n",
    "#  5.67128182e+00 1.63312394e+16]\n",
    "\n",
    "z = np.arctan(y)\n",
    "print(z)\n",
    "# [0.         0.17453293 0.34906585 0.52359878 0.6981317  0.87266463\n",
    "#  1.04719755 1.22173048 1.3962634  1.57079633]"
   ]
  },
  {
   "cell_type": "code",
   "execution_count": 17,
   "metadata": {},
   "outputs": [
    {
     "name": "stdout",
     "output_type": "stream",
     "text": [
      "[1 2 3 4]\n",
      "[ 2.71828183  7.3890561  20.08553692 54.59815003]\n",
      "[1. 2. 3. 4.]\n"
     ]
    }
   ],
   "source": [
    "x = np.arange(1, 5)\n",
    "print(x)\n",
    "# [1 2 3 4]\n",
    "y = np.exp(x)\n",
    "print(y)\n",
    "# [ 2.71828183  7.3890561  20.08553692 54.59815003]\n",
    "z = np.log(y)\n",
    "print(z)\n",
    "# [1. 2. 3. 4.]\n"
   ]
  },
  {
   "cell_type": "code",
   "execution_count": 18,
   "metadata": {},
   "outputs": [
    {
     "name": "stdout",
     "output_type": "stream",
     "text": [
      "575\n",
      "[105 110 115 120 125]\n",
      "[ 65  90 115 140 165]\n"
     ]
    }
   ],
   "source": [
    "x = np.array([[11, 12, 13, 14, 15],\n",
    "              [16, 17, 18, 19, 20],\n",
    "              [21, 22, 23, 24, 25],\n",
    "              [26, 27, 28, 29, 30],\n",
    "              [31, 32, 33, 34, 35]])\n",
    "y = np.sum(x)\n",
    "print(y)  # 575\n",
    "\n",
    "y = np.sum(x, axis=0)\n",
    "print(y)  # [105 110 115 120 125]\n",
    "\n",
    "y = np.sum(x, axis=1)\n",
    "print(y)  # [ 65  90 115 140 165]\n"
   ]
  },
  {
   "cell_type": "code",
   "execution_count": 27,
   "metadata": {},
   "outputs": [
    {
     "name": "stdout",
     "output_type": "stream",
     "text": [
      "[ 11  23  36  50  65  81  98 116 135 155 176 198 221 245 270 296 323 351\n",
      " 380 410 441 473 506 540 575]\n",
      "[[ 11  12  13  14  15]\n",
      " [ 27  29  31  33  35]\n",
      " [ 48  51  54  57  60]\n",
      " [ 74  78  82  86  90]\n",
      " [105 110 115 120 125]]\n",
      "[[ 11  23  36  50  65]\n",
      " [ 16  33  51  70  90]\n",
      " [ 21  43  66  90 115]\n",
      " [ 26  53  81 110 140]\n",
      " [ 31  63  96 130 165]]\n"
     ]
    }
   ],
   "source": [
    "x = np.array([[11, 12, 13, 14, 15],\n",
    "              [16, 17, 18, 19, 20],\n",
    "              [21, 22, 23, 24, 25],\n",
    "              [26, 27, 28, 29, 30],\n",
    "              [31, 32, 33, 34, 35]])\n",
    "y = np.cumsum(x)\n",
    "print(y)\n",
    "# [ 11  23  36  50  65  81  98 116 135 155 176 198 221 245 270 296 323 351\n",
    "#  380 410 441 473 506 540 575]\n",
    "\n",
    "y = np.cumsum(x, axis=0)\n",
    "print(y)\n",
    "# [[ 11  12  13  14  15]\n",
    "#  [ 27  29  31  33  35]\n",
    "#  [ 48  51  54  57  60]\n",
    "#  [ 74  78  82  86  90]\n",
    "#  [105 110 115 120 125]]\n",
    "\n",
    "y = np.cumsum(x, axis=1)\n",
    "print(y)\n",
    "# [[ 11  23  36  50  65]\n",
    "#  [ 16  33  51  70  90]\n",
    "#  [ 21  43  66  90 115]\n",
    "#  [ 26  53  81 110 140]\n",
    "#  [ 31  63  96 130 165]]\n"
   ]
  },
  {
   "cell_type": "code",
   "execution_count": 28,
   "metadata": {},
   "outputs": [
    {
     "name": "stdout",
     "output_type": "stream",
     "text": [
      "3712525927079477248\n",
      "[2978976 3877632 4972968 6294624 7875000]\n",
      "[  360360  1860480  6375600 17100720 38955840]\n"
     ]
    }
   ],
   "source": [
    "x = np.array([[11, 12, 13, 14, 15],\n",
    "              [16, 17, 18, 19, 20],\n",
    "              [21, 22, 23, 24, 25],\n",
    "              [26, 27, 28, 29, 30],\n",
    "              [31, 32, 33, 34, 35]])\n",
    "y = np.prod(x)\n",
    "print(y)  # 788529152\n",
    "\n",
    "y = np.prod(x, axis=0)\n",
    "print(y)\n",
    "# [2978976 3877632 4972968 6294624 7875000]\n",
    "\n",
    "y = np.prod(x, axis=1)\n",
    "print(y)\n",
    "# [  360360  1860480  6375600 17100720 38955840]\n"
   ]
  },
  {
   "cell_type": "code",
   "execution_count": 29,
   "metadata": {},
   "outputs": [
    {
     "name": "stdout",
     "output_type": "stream",
     "text": [
      "[                  11                  132                 1716\n",
      "                24024               360360              5765760\n",
      "             98017920           1764322560          33522128640\n",
      "         670442572800       14079294028800      309744468633600\n",
      "     7124122778572800   170978946685747200  4274473667143680000\n",
      "   455850903478370304 -6138769679793553408 -5864854370833530880\n",
      " -4060080090786430976  7324805792373932032  5708050679077273600\n",
      " -1809819006622760960 -4383794997422456832 -1475077322687119360\n",
      "  3712525927079477248]\n",
      "[[     11      12      13      14      15]\n",
      " [    176     204     234     266     300]\n",
      " [   3696    4488    5382    6384    7500]\n",
      " [  96096  121176  150696  185136  225000]\n",
      " [2978976 3877632 4972968 6294624 7875000]]\n",
      "[[      11      132     1716    24024   360360]\n",
      " [      16      272     4896    93024  1860480]\n",
      " [      21      462    10626   255024  6375600]\n",
      " [      26      702    19656   570024 17100720]\n",
      " [      31      992    32736  1113024 38955840]]\n"
     ]
    }
   ],
   "source": [
    "y = np.cumprod(x)\n",
    "print(y)\n",
    "# [         11         132        1716       24024      360360     5765760\n",
    "#     98017920  1764322560  -837609728   427674624   391232512    17180672\n",
    "#    395155456   893796352   870072320  1147043840   905412608  -418250752\n",
    "#    755630080  1194065920 -1638662144  -897581056   444596224 -2063597568\n",
    "#    788529152]\n",
    "\n",
    "y = np.cumprod(x, axis=0)\n",
    "print(y)\n",
    "# [[     11      12      13      14      15]\n",
    "#  [    176     204     234     266     300]\n",
    "#  [   3696    4488    5382    6384    7500]\n",
    "#  [  96096  121176  150696  185136  225000]\n",
    "#  [2978976 3877632 4972968 6294624 7875000]]\n",
    "\n",
    "y = np.cumprod(x, axis=1)\n",
    "print(y)\n",
    "# [[      11      132     1716    24024   360360]\n",
    "#  [      16      272     4896    93024  1860480]\n",
    "#  [      21      462    10626   255024  6375600]\n",
    "#  [      26      702    19656   570024 17100720]\n",
    "#  [      31      992    32736  1113024 38955840]]"
   ]
  },
  {
   "cell_type": "code",
   "execution_count": 30,
   "metadata": {},
   "outputs": [
    {
     "name": "stdout",
     "output_type": "stream",
     "text": [
      "[[ 2  3  4  5]\n",
      " [ 6  8  8  9]\n",
      " [10 11 12 13]]\n",
      "[[1 1 1]\n",
      " [2 0 1]\n",
      " [1 1 1]]\n",
      "[[4 5 4 4]\n",
      " [4 3 4 4]]\n"
     ]
    }
   ],
   "source": [
    "A = np.arange(2, 14).reshape((3, 4))\n",
    "A[1, 1] = 8\n",
    "print(A)\n",
    "# [[ 2  3  4  5]\n",
    "#  [ 6  8  8  9]\n",
    "#  [10 11 12 13]]\n",
    "print(np.diff(A))\n",
    "# [[1 1 1]\n",
    "#  [2 0 1]\n",
    "#  [1 1 1]]\n",
    "print(np.diff(A, axis=0))\n",
    "# [[4 5 4 4]\n",
    "#  [4 3 4 4]]"
   ]
  },
  {
   "cell_type": "code",
   "execution_count": 31,
   "metadata": {},
   "outputs": [
    {
     "name": "stdout",
     "output_type": "stream",
     "text": [
      "[[20 20 20 20 20]\n",
      " [20 20 20 20 20]\n",
      " [21 22 23 24 25]\n",
      " [26 27 28 29 30]\n",
      " [30 30 30 30 30]]\n"
     ]
    }
   ],
   "source": [
    "x = np.array([[11, 12, 13, 14, 15],\n",
    "              [16, 17, 18, 19, 20],\n",
    "              [21, 22, 23, 24, 25],\n",
    "              [26, 27, 28, 29, 30],\n",
    "              [31, 32, 33, 34, 35]])\n",
    "y = np.clip(x, a_min=20, a_max=30)\n",
    "print(y)\n",
    "# [[20 20 20 20 20]\n",
    "#  [20 20 20 20 20]\n",
    "#  [21 22 23 24 25]\n",
    "#  [26 27 28 29 30]\n",
    "#  [30 30 30 30 30]]"
   ]
  },
  {
   "cell_type": "code",
   "execution_count": 32,
   "metadata": {},
   "outputs": [
    {
     "name": "stdout",
     "output_type": "stream",
     "text": [
      "False\n",
      "[False  True  True False]\n",
      "[False False False  True  True]\n",
      "False\n",
      "[ True False]\n",
      "[False False  True  True False]\n",
      "True\n",
      "[ True False]\n",
      "[ True False False False  True]\n",
      "True\n",
      "[False  True  True False]\n",
      "[ True False False False  True]\n",
      "[[ True False]\n",
      " [False  True]]\n"
     ]
    }
   ],
   "source": [
    "print(np.logical_not(3))  \n",
    "# False\n",
    "print(np.logical_not([True, False, 0, 1]))\n",
    "# [False  True  True False]\n",
    "\n",
    "x = np.arange(5)\n",
    "print(np.logical_not(x < 3))\n",
    "# [False False False  True  True]\n",
    "\n",
    "print(np.logical_and(True, False))  \n",
    "# False\n",
    "print(np.logical_and([True, False], [True, False]))\n",
    "# [ True False]\n",
    "print(np.logical_and(x > 1, x < 4))\n",
    "# [False False  True  True False]\n",
    "\n",
    "print(np.logical_or(True, False))\n",
    "# True\n",
    "print(np.logical_or([True, False], [False, False]))\n",
    "# [ True False]\n",
    "print(np.logical_or(x < 1, x > 3))\n",
    "# [ True False False False  True]\n",
    "\n",
    "print(np.logical_xor(True, False))\n",
    "# True\n",
    "print(np.logical_xor([True, True, False, False], [True, False, True, False]))\n",
    "# [False  True  True False]\n",
    "print(np.logical_xor(x < 1, x > 3))\n",
    "# [ True False False False  True]\n",
    "print(np.logical_xor(0, np.eye(2)))\n",
    "# [[ True False]\n",
    "#  [False  True]]"
   ]
  },
  {
   "cell_type": "code",
   "execution_count": null,
   "metadata": {},
   "outputs": [],
   "source": []
  }
 ],
 "metadata": {
  "kernelspec": {
   "display_name": "Python 3",
   "language": "python",
   "name": "python3"
  },
  "language_info": {
   "codemirror_mode": {
    "name": "ipython",
    "version": 3
   },
   "file_extension": ".py",
   "mimetype": "text/x-python",
   "name": "python",
   "nbconvert_exporter": "python",
   "pygments_lexer": "ipython3",
   "version": "3.7.2"
  }
 },
 "nbformat": 4,
 "nbformat_minor": 2
}
