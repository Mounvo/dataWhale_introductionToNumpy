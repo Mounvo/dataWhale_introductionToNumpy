{
 "cells": [
  {
   "cell_type": "code",
   "execution_count": 2,
   "metadata": {},
   "outputs": [
    {
     "name": "stdout",
     "output_type": "stream",
     "text": [
      "[-1  2  3  4  5  6  7  8]\n",
      "[-1  2  3  4  5  6  7  8]\n"
     ]
    }
   ],
   "source": [
    "import numpy as np\n",
    "\n",
    "x = np.array([1,2,3,4,5,6,7,8])\n",
    "y = x \n",
    "y[0] = -1\n",
    "print(x)\n",
    "print(y)"
   ]
  },
  {
   "cell_type": "code",
   "execution_count": 5,
   "metadata": {},
   "outputs": [
    {
     "name": "stdout",
     "output_type": "stream",
     "text": [
      "[-1  2  3  4  5  6  7  8]\n",
      "[1 2 3 4 5 6 7 8]\n"
     ]
    }
   ],
   "source": [
    "x = np.array([1,2,3,4,5,6,7,8])\n",
    "z = x.copy()\n",
    "z[0] = -1\n",
    "print(z)\n",
    "print(x)"
   ]
  },
  {
   "cell_type": "code",
   "execution_count": 10,
   "metadata": {},
   "outputs": [
    {
     "name": "stdout",
     "output_type": "stream",
     "text": [
      "[21 22 23 24 25]\n",
      "22\n",
      "22\n"
     ]
    }
   ],
   "source": [
    "arr2d = np.array([[11, 12, 13, 14, 15],\n",
    "              [16, 17, 18, 19, 20],\n",
    "              [21, 22, 23, 24, 25],\n",
    "              [26, 27, 28, 29, 30],\n",
    "              [31, 32, 33, 34, 35]])\n",
    "print(arr2d[2])  \n",
    "print(arr2d[2][1])  \n",
    "print(arr2d[2, 1])  "
   ]
  },
  {
   "cell_type": "code",
   "execution_count": 11,
   "metadata": {},
   "outputs": [
    {
     "name": "stdout",
     "output_type": "stream",
     "text": [
      "[[1 2 3]\n",
      " [4 5 6]]\n",
      "[7 8 9]\n"
     ]
    }
   ],
   "source": [
    "arr3d = np.array([[[1, 2, 3], [4, 5, 6]], [[7, 8, 9], [10, 11, 12]]])\n",
    "\n",
    "print(arr3d[0])\n",
    "print(arr3d[1][0])"
   ]
  },
  {
   "cell_type": "code",
   "execution_count": 8,
   "metadata": {},
   "outputs": [
    {
     "name": "stdout",
     "output_type": "stream",
     "text": [
      "[1 2]\n",
      "[2 4]\n",
      "[3 4 5 6 7 8]\n",
      "[1 2]\n",
      "[7 8]\n",
      "[1 2 3 4 5 6]\n",
      "[1 2 3 4 5 6 7 8]\n",
      "[8 7 6 5 4 3 2 1]\n"
     ]
    }
   ],
   "source": [
    "x = np.array([1, 2, 3, 4, 5, 6, 7, 8])\n",
    "print(x[0:2])  # [1 2]\n",
    "#用下标0~5,以2为步长选取数组\n",
    "print(x[1:5:2])  # [2 4]\n",
    "print(x[2:])  # [3 4 5 6 7 8]\n",
    "print(x[:2])  # [1 2]\n",
    "print(x[-2:])  # [7 8]\n",
    "print(x[:-2])  # [1 2 3 4 5 6]\n",
    "print(x[:])  # [1 2 3 4 5 6 7 8]\n",
    "#利用负数下标翻转数组\n",
    "print(x[::-1])  # [8 7 6 5 4 3 2 1]\n"
   ]
  },
  {
   "cell_type": "code",
   "execution_count": 12,
   "metadata": {},
   "outputs": [
    {
     "name": "stdout",
     "output_type": "stream",
     "text": [
      "[[11 12 13 14 15]\n",
      " [16 17 18 19 20]]\n"
     ]
    }
   ],
   "source": [
    "print(arr2d[:2])"
   ]
  },
  {
   "cell_type": "code",
   "execution_count": 13,
   "metadata": {},
   "outputs": [
    {
     "name": "stdout",
     "output_type": "stream",
     "text": [
      "[[12 13 14 15]\n",
      " [17 18 19 20]]\n"
     ]
    }
   ],
   "source": [
    "print(arr2d[:2,1:])"
   ]
  },
  {
   "cell_type": "code",
   "execution_count": 14,
   "metadata": {},
   "outputs": [
    {
     "name": "stdout",
     "output_type": "stream",
     "text": [
      "[21 22 23 24 25]\n"
     ]
    }
   ],
   "source": [
    "print(arr2d[2,:])"
   ]
  },
  {
   "cell_type": "code",
   "execution_count": 18,
   "metadata": {},
   "outputs": [
    {
     "name": "stdout",
     "output_type": "stream",
     "text": [
      "[[[17 19 58]\n",
      "  [94 89 25]]\n",
      "\n",
      " [[91 20 52]\n",
      "  [ 1 96 12]]]\n",
      "[[91 20 52]\n",
      " [ 1 96 12]]\n",
      "[[58 25]\n",
      " [52 12]]\n",
      "[[20 52]\n",
      " [96 12]]\n"
     ]
    }
   ],
   "source": [
    "arr5d = np.random.randint(1, 100, [2, 2, 3])\n",
    "print(arr5d)\n",
    "# [[[ 5 64 75]\n",
    "#   [57 27 31]]\n",
    "# \n",
    "#  [[68 85  3]\n",
    "#   [93 26 25]]]\n",
    "\n",
    "print(arr5d[1, ...])\n",
    "# [[68 85  3]\n",
    "#  [93 26 25]]\n",
    "\n",
    "print(arr5d[..., 2])\n",
    "# [[75 31]\n",
    "#  [ 3 25]]\n",
    "\n",
    "print(arr5d[1,...,1:])\n",
    "# [[20 52]\n",
    "# [96 12]]"
   ]
  },
  {
   "cell_type": "code",
   "execution_count": 19,
   "metadata": {},
   "outputs": [
    {
     "name": "stdout",
     "output_type": "stream",
     "text": [
      "[1 2 3]\n",
      "[1 2 8]\n",
      "[[11 12 13 14 15]\n",
      " [16 17 18 19 20]\n",
      " [21 22 23 24 25]]\n",
      "[[11 12 13 14 15]\n",
      " [16 17 18 19 20]\n",
      " [31 32 33 34 35]]\n",
      "[13 19 25]\n"
     ]
    }
   ],
   "source": [
    "x = np.array([1, 2, 3, 4, 5, 6, 7, 8])\n",
    "r = [0, 1, 2]\n",
    "print(x[r])\n",
    "# [1 2 3]\n",
    "\n",
    "r = [0, 1, -1]\n",
    "print(x[r])\n",
    "# [1 2 8]\n",
    "\n",
    "x = np.array([[11, 12, 13, 14, 15],\n",
    "              [16, 17, 18, 19, 20],\n",
    "              [21, 22, 23, 24, 25],\n",
    "              [26, 27, 28, 29, 30],\n",
    "              [31, 32, 33, 34, 35]])\n",
    "\n",
    "r = [0, 1, 2]\n",
    "print(x[r])\n",
    "# [[11 12 13 14 15]\n",
    "#  [16 17 18 19 20]\n",
    "#  [21 22 23 24 25]]\n",
    "\n",
    "\n",
    "r = [0, 1, 2]\n",
    "c = [2, 3, 4]\n",
    "y = x[r, c]\n",
    "print(y)\n",
    "# [13 19 25]"
   ]
  },
  {
   "cell_type": "code",
   "execution_count": 20,
   "metadata": {},
   "outputs": [
    {
     "name": "stdout",
     "output_type": "stream",
     "text": [
      "[[1 2]\n",
      " [4 5]]\n"
     ]
    }
   ],
   "source": [
    "x = np.array([1, 2, 3, 4, 5, 6, 7, 8])\n",
    "r = np.array([[0, 1], [3, 4]])\n",
    "print(x[r])\n",
    "# [[1 2]\n",
    "#  [4 5]]"
   ]
  },
  {
   "cell_type": "code",
   "execution_count": 21,
   "metadata": {},
   "outputs": [
    {
     "name": "stdout",
     "output_type": "stream",
     "text": [
      "[[[11 12 13 14 15]\n",
      "  [16 17 18 19 20]]\n",
      "\n",
      " [[26 27 28 29 30]\n",
      "  [31 32 33 34 35]]]\n"
     ]
    }
   ],
   "source": [
    "x = np.array([[11, 12, 13, 14, 15],\n",
    "              [16, 17, 18, 19, 20],\n",
    "              [21, 22, 23, 24, 25],\n",
    "              [26, 27, 28, 29, 30],\n",
    "              [31, 32, 33, 34, 35]])\n",
    "\n",
    "r = np.array([[0, 1], [3, 4]])\n",
    "print(x[r])\n",
    "# [[[11 12 13 14 15]\n",
    "#   [16 17 18 19 20]]\n",
    "#\n",
    "#  [[26 27 28 29 30]\n",
    "#   [31 32 33 34 35]]]"
   ]
  },
  {
   "cell_type": "code",
   "execution_count": 23,
   "metadata": {
    "scrolled": true
   },
   "outputs": [
    {
     "name": "stdout",
     "output_type": "stream",
     "text": [
      "[[0 0]\n",
      " [4 4]]\n",
      "[[0 4]\n",
      " [0 4]]\n",
      "[[11 15]\n",
      " [31 35]]\n"
     ]
    }
   ],
   "source": [
    "r = np.array([[0, 0], [4, 4]])\n",
    "c = np.array([[0, 4], [0, 4]])\n",
    "print(r)\n",
    "print(c)\n",
    "y = x[r, c]\n",
    "print(y)"
   ]
  },
  {
   "cell_type": "code",
   "execution_count": 25,
   "metadata": {},
   "outputs": [
    {
     "name": "stdout",
     "output_type": "stream",
     "text": [
      "[1 2 3]\n",
      "[1 2 8]\n",
      "[[11 12 13 14 15]\n",
      " [16 17 18 19 20]\n",
      " [21 22 23 24 25]]\n",
      "[[11 12 15]\n",
      " [16 17 20]\n",
      " [21 22 25]\n",
      " [26 27 30]\n",
      " [31 32 35]]\n",
      "[[11 12 13]\n",
      " [13 14 15]]\n"
     ]
    }
   ],
   "source": [
    "x = np.array([1, 2, 3, 4, 5, 6, 7, 8])\n",
    "r = [0, 1, 2]\n",
    "print(np.take(x, r))\n",
    "# [1 2 3]\n",
    "\n",
    "r = [0, 1, -1]\n",
    "print(np.take(x, r))\n",
    "# [1 2 8]\n",
    "\n",
    "x = np.array([[11, 12, 13, 14, 15],\n",
    "              [16, 17, 18, 19, 20],\n",
    "              [21, 22, 23, 24, 25],\n",
    "              [26, 27, 28, 29, 30],\n",
    "              [31, 32, 33, 34, 35]])\n",
    "\n",
    "r = [0, 1, 2]\n",
    "print(np.take(x, r, axis=0))\n",
    "# [[11 12 13 14 15]\n",
    "#  [16 17 18 19 20]\n",
    "#  [21 22 23 24 25]]\n",
    "\n",
    "r = [0, 1, -1]\n",
    "print(np.take(x, r, axis=1))\n",
    "# [[11 12 15]\n",
    "#  [16 17 20]\n",
    "#  [21 22 25]\n",
    "#  [26 27 30]\n",
    "#  [31 32 35]]\n",
    "\n",
    "r = [0, 1, 2]\n",
    "c = [2, 3, 4]\n",
    "y = np.take(x, [r, c])\n",
    "print(y)\n",
    "# [[11 12 13]\n",
    "#  [13 14 15]]"
   ]
  },
  {
   "cell_type": "code",
   "execution_count": 28,
   "metadata": {},
   "outputs": [
    {
     "name": "stdout",
     "output_type": "stream",
     "text": [
      "False\n",
      "[[ True]]\n"
     ]
    }
   ],
   "source": [
    "a=np.array([[1,2],[3,4],[5,6]])\n",
    "#整数数组索引，形成了新的数组\n",
    "c=a[0,0]\n",
    "c=2\n",
    "print(a[0,0]==c)\n",
    "#False\n",
    "#切片索引，生成视图\n",
    "b=a[0:1,0:1]\n",
    "b[0,0]=2\n",
    "print(a[0,0]==b)\n",
    "#[[ True]]\n"
   ]
  },
  {
   "cell_type": "code",
   "execution_count": 29,
   "metadata": {},
   "outputs": [
    {
     "name": "stdout",
     "output_type": "stream",
     "text": [
      "[False False False False False  True  True  True]\n",
      "[6 7 8]\n"
     ]
    }
   ],
   "source": [
    "x = np.array([1,2,3,4,5,6,7,8])\n",
    "y = x > 5\n",
    "print(y)\n",
    "print(x[x > 5])"
   ]
  },
  {
   "cell_type": "code",
   "execution_count": 32,
   "metadata": {},
   "outputs": [
    {
     "name": "stdout",
     "output_type": "stream",
     "text": [
      "50\n",
      "25\n",
      "[ True  True  True  True  True  True  True  True  True  True  True  True\n",
      "  True  True  True  True  True  True  True  True  True  True  True  True\n",
      "  True False False False False False False False False False False False\n",
      " False False False False False False False False False False False False\n",
      " False False]\n",
      "[ True  True  True  True  True  True  True  True  True  True  True  True\n",
      "  True False False False False False False False False False False False\n",
      " False False False False False False False False False False False False\n",
      " False False False False False False False False False False False False\n",
      " False False]\n",
      "Using matplotlib backend: MacOSX\n"
     ]
    },
    {
     "data": {
      "image/png": "[encoded data removed]",
      "text/plain": [
       "<Figure size 864x576 with 1 Axes>"
      ]
     },
     "metadata": {
      "needs_background": "light"
     },
     "output_type": "display_data"
    }
   ],
   "source": [
    "import matplotlib.pyplot as plt\n",
    "\n",
    "x = np.linspace(0, 2 * np.pi, 50)\n",
    "y = np.sin(x)\n",
    "print(len(x))  # 50\n",
    "plt.plot(x, y)\n",
    "\n",
    "mask = y >= 0\n",
    "print(len(x[mask]))  # 25\n",
    "print(mask)\n",
    "'''\n",
    "[ True  True  True  True  True  True  True  True  True  True  True  True\n",
    "  True  True  True  True  True  True  True  True  True  True  True  True\n",
    "  True False False False False False False False False False False False\n",
    " False False False False False False False False False False False False\n",
    " False False]\n",
    "'''\n",
    "plt.plot(x[mask], y[mask], 'bo')\n",
    "\n",
    "mask = np.logical_and(y >= 0, x <= np.pi / 2)\n",
    "print(mask)\n",
    "'''\n",
    "[ True  True  True  True  True  True  True  True  True  True  True  True\n",
    "  True False False False False False False False False False False False\n",
    " False False False False False False False False False False False False\n",
    " False False False False False False False False False False False False\n",
    " False False]\n",
    "'''\n",
    "%matplotlib\n",
    "plt.plot(x[mask], y[mask], 'go')\n",
    "plt.show()"
   ]
  },
  {
   "cell_type": "code",
   "execution_count": 33,
   "metadata": {},
   "outputs": [
    {
     "name": "stdout",
     "output_type": "stream",
     "text": [
      "[1. 2. 3. 4. 5.]\n"
     ]
    }
   ],
   "source": [
    "a = np.array([np.nan,  1,2,np.nan,3,4,5])  \n",
    "print (a[~np.isnan(a)])"
   ]
  },
  {
   "cell_type": "code",
   "execution_count": 36,
   "metadata": {},
   "outputs": [
    {
     "name": "stdout",
     "output_type": "stream",
     "text": [
      "[105 110 115 120 125]\n",
      "[ 65  90 115 140 165]\n",
      "[21. 22. 23. 24. 25.]\n"
     ]
    }
   ],
   "source": [
    "x = np.array([[11, 12, 13, 14, 15],\n",
    "              [16, 17, 18, 19, 20],\n",
    "              [21, 22, 23, 24, 25],\n",
    "              [26, 27, 28, 29, 30],\n",
    "              [31, 32, 33, 34, 35]])\n",
    "\n",
    "y = np.apply_along_axis(np.sum, 0, x)\n",
    "print(y)\n",
    "z = np.apply_along_axis(np.sum, 1, x)\n",
    "print(z)\n",
    "\n",
    "def my_func(x):\n",
    "    return (x[0] + x[-1]) * 0.5\n",
    "\n",
    "i = np.apply_along_axis(my_func, 0, x)\n",
    "print(i)"
   ]
  },
  {
   "cell_type": "code",
   "execution_count": null,
   "metadata": {},
   "outputs": [],
   "source": []
  }
 ],
 "metadata": {
  "kernelspec": {
   "display_name": "Python 3",
   "language": "python",
   "name": "python3"
  },
  "language_info": {
   "codemirror_mode": {
    "name": "ipython",
    "version": 3
   },
   "file_extension": ".py",
   "mimetype": "text/x-python",
   "name": "python",
   "nbconvert_exporter": "python",
   "pygments_lexer": "ipython3",
   "version": "3.7.2"
  }
 },
 "nbformat": 4,
 "nbformat_minor": 2
}
